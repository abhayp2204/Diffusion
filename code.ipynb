{
 "cells": [
  {
   "cell_type": "code",
   "execution_count": 169,
   "id": "657c0fe2",
   "metadata": {},
   "outputs": [],
   "source": [
    "# Imports\n",
    "import numpy as np\n",
    "from matplotlib import pyplot as plt"
   ]
  },
  {
   "cell_type": "code",
   "execution_count": 170,
   "id": "1ee7eafd",
   "metadata": {},
   "outputs": [],
   "source": [
    "# Definitions\n",
    "NUM_LENGTH_UNITS = 25\n",
    "TIME_LIMIT = 50\n",
    "\n",
    "# Diffusion equation parameters\n",
    "D = 0.015\n",
    "dt = 0.05\n",
    "dx = 0.08"
   ]
  },
  {
   "cell_type": "code",
   "execution_count": 171,
   "id": "d4d68194",
   "metadata": {},
   "outputs": [],
   "source": [
    "def decent_chance(x):\n",
    "    return (x > 0.1)\n",
    "\n",
    "def at_boundary(x):\n",
    "    return (x == 0 or x == (NUM_LENGTH_UNITS - 1))"
   ]
  },
  {
   "cell_type": "code",
   "execution_count": 172,
   "id": "f9065bc4",
   "metadata": {},
   "outputs": [
    {
     "data": {
      "text/plain": [
       "array([[0.        , 0.        , 0.        , ..., 0.        , 0.        ,\n",
       "        0.        ],\n",
       "       [0.        , 0.        , 0.        , ..., 0.        , 0.        ,\n",
       "        0.        ],\n",
       "       [0.        , 0.        , 0.        , ..., 0.        , 0.        ,\n",
       "        0.        ],\n",
       "       ...,\n",
       "       [0.        , 0.0014675 , 0.00290988, ..., 0.00290988, 0.0014675 ,\n",
       "        0.        ],\n",
       "       [0.        , 0.00146455, 0.00290405, ..., 0.00290405, 0.00146455,\n",
       "        0.        ],\n",
       "       [0.        , 0.00146162, 0.00289823, ..., 0.00289823, 0.00146162,\n",
       "        0.        ]])"
      ]
     },
     "execution_count": 172,
     "metadata": {},
     "output_type": "execute_result"
    }
   ],
   "source": [
    "# Generate probability matrix\n",
    "pos = np.linspace(-1, 1, NUM_LENGTH_UNITS)\n",
    "time = np.arange(0, TIME_LIMIT, 0.05)\n",
    "\n",
    "# Initialize P\n",
    "shape = (len(time) + 1, NUM_LENGTH_UNITS)\n",
    "P = np.zeros(shape)\n",
    "\n",
    "# Since the particle starts at origin at time t=0, probability=1\n",
    "origin = int(NUM_LENGTH_UNITS/2)\n",
    "P[0][origin] = 1\n",
    "\n",
    "# Loop to generate probability matrix\n",
    "for t in range(len(time)):\n",
    "    for x in range(len(pos)):\n",
    "        \n",
    "        # Boundary condition\n",
    "        if at_boundary(x):\n",
    "            P[t+1][x] = 0\n",
    "            continue\n",
    "            \n",
    "        # Diffusion equation\n",
    "        P[t+1, x] = P[t, x] + D*dt/(dx**2)*(P[t, x+1] - 2*P[t, x] + P[t, x-1])\n",
    "        \n",
    "# Display probability matrix\n",
    "P"
   ]
  },
  {
   "cell_type": "code",
   "execution_count": 173,
   "id": "d6e5684e",
   "metadata": {},
   "outputs": [
    {
     "data": {
      "image/png": "[encoded data removed]",
      "text/plain": [
       "<Figure size 432x288 with 1 Axes>"
      ]
     },
     "metadata": {
      "needs_background": "light"
     },
     "output_type": "display_data"
    }
   ],
   "source": [
    "# Graph: Probability of particle to be at x at time t vs x\n",
    "legend = []\n",
    "\n",
    "# Generate plots\n",
    "step = 10\n",
    "for t in range(0, len(P) - step, step):\n",
    "    \n",
    "    # Ignore graphs which are too spread to prevent crowding\n",
    "    if not decent_chance(P[t][mid]):\n",
    "        continue\n",
    "        \n",
    "    # Plot graph\n",
    "    plt.plot(pos, P[t])\n",
    "    legend.append(f\"time = {time[t]}\")\n",
    "\n",
    "# Graph attributes\n",
    "plt.title(\"Probability of particle to be at x at time t vs x\")\n",
    "plt.legend(legend)\n",
    "plt.xlabel(\"Position\")\n",
    "plt.ylabel(\"Probability\")\n",
    "plt.show()"
   ]
  }
 ],
 "metadata": {
  "kernelspec": {
   "display_name": "Python 3 (ipykernel)",
   "language": "python",
   "name": "python3"
  },
  "language_info": {
   "codemirror_mode": {
    "name": "ipython",
    "version": 3
   },
   "file_extension": ".py",
   "mimetype": "text/x-python",
   "name": "python",
   "nbconvert_exporter": "python",
   "pygments_lexer": "ipython3",
   "version": "3.8.10"
  }
 },
 "nbformat": 4,
 "nbformat_minor": 5
}
